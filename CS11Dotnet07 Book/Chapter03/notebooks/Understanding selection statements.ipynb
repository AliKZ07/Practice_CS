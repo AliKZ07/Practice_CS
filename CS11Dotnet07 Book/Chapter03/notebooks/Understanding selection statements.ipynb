{
 "cells": [
  {
   "cell_type": "markdown",
   "metadata": {
    "dotnet_interactive": {
     "language": "csharp"
    },
    "vscode": {
     "languageId": "dotnet-interactive.csharp"
    }
   },
   "source": [
    "# Understanding selection statements"
   ]
  },
  {
   "cell_type": "code",
   "execution_count": 4,
   "metadata": {
    "dotnet_interactive": {
     "language": "csharp"
    },
    "vscode": {
     "languageId": "dotnet-interactive.csharp"
    }
   },
   "outputs": [],
   "source": [
    "using static System.Console;"
   ]
  },
  {
   "cell_type": "markdown",
   "metadata": {},
   "source": [
    "## Pattern matching with the if statement"
   ]
  },
  {
   "cell_type": "code",
   "execution_count": 5,
   "metadata": {
    "dotnet_interactive": {
     "language": "csharp"
    },
    "vscode": {
     "languageId": "dotnet-interactive.csharp"
    }
   },
   "outputs": [
    {
     "name": "stdout",
     "output_type": "stream",
     "text": [
      "o is not an int \n",
      "so it cannot multiply!\r\n"
     ]
    }
   ],
   "source": [
    "//object o = 10;\n",
    "object o = \"10\";\n",
    "int j = 4;\n",
    "\n",
    "if(o is int i)\n",
    "{\n",
    "    WriteLine($\"{i} x {j} = {i * j}\");\n",
    "}\n",
    "else\n",
    "{\n",
    "    WriteLine(\"o is not an int \\nso it cannot multiply!\");\n",
    "}"
   ]
  },
  {
   "cell_type": "markdown",
   "metadata": {},
   "source": [
    "## Branching with the switch statement"
   ]
  },
  {
   "cell_type": "code",
   "execution_count": 10,
   "metadata": {
    "dotnet_interactive": {
     "language": "csharp"
    },
    "vscode": {
     "languageId": "dotnet-interactive.csharp"
    }
   },
   "outputs": [
    {
     "name": "stdout",
     "output_type": "stream",
     "text": [
      "My random number is 3\r\n",
      "Three or four\r\n",
      "One\r\n",
      "After end of switch\r\n",
      "After A_label\r\n"
     ]
    }
   ],
   "source": [
    "int number = Random.Shared.Next(1, 7);\n",
    "WriteLine($\"My random number is {number}\");\n",
    "switch (number)\n",
    "{\n",
    "    case 1: \n",
    "        WriteLine(\"One\");\n",
    "        break; // jumps to end of switch statement\n",
    "    case 2:\n",
    "        WriteLine(\"Two\");\n",
    "        goto case 1;\n",
    "    case 3: // multiple case section\n",
    "    case 4:\n",
    "        WriteLine(\"Three or four\");\n",
    "        goto case 1;\n",
    "    case 5:\n",
    "        goto A_label;\n",
    "    default:\n",
    "        WriteLine(\"Default\");\n",
    "        break;\n",
    "    } // end of switch statement\n",
    "WriteLine(\"After end of switch\");\n",
    "A_label:\n",
    "WriteLine($\"After A_label\");"
   ]
  },
  {
   "cell_type": "markdown",
   "metadata": {},
   "source": [
    "## Pattern matching with the switch statement"
   ]
  },
  {
   "cell_type": "code",
   "execution_count": 17,
   "metadata": {
    "dotnet_interactive": {
     "language": "csharp"
    },
    "vscode": {
     "languageId": "dotnet-interactive.csharp"
    }
   },
   "outputs": [],
   "source": [
    "class Animal\n",
    "{\n",
    "    public string? name;\n",
    "    public DateTime born;\n",
    "    public byte legs;\n",
    "}"
   ]
  },
  {
   "cell_type": "code",
   "execution_count": 18,
   "metadata": {
    "dotnet_interactive": {
     "language": "csharp"
    },
    "vscode": {
     "languageId": "dotnet-interactive.csharp"
    }
   },
   "outputs": [],
   "source": [
    "class Cat : Animal\n",
    "{\n",
    "    public bool IsDomestic;\n",
    "}"
   ]
  },
  {
   "cell_type": "code",
   "execution_count": 19,
   "metadata": {
    "dotnet_interactive": {
     "language": "csharp"
    },
    "vscode": {
     "languageId": "dotnet-interactive.csharp"
    }
   },
   "outputs": [],
   "source": [
    "class Spider : Animal\n",
    "{\n",
    "    public bool IsPoisonous;\n",
    "}"
   ]
  },
  {
   "cell_type": "code",
   "execution_count": 20,
   "metadata": {
    "dotnet_interactive": {
     "language": "csharp"
    },
    "vscode": {
     "languageId": "dotnet-interactive.csharp"
    }
   },
   "outputs": [],
   "source": [
    "Animal?[] animals = new Animal?[]\n",
    "{\n",
    "    new Cat { name = \"Karen\", born = new(year: 2022, month: 8, day: 23), legs = 4, IsDomestic = true },\n",
    "    null,\n",
    "    new Cat { name = \"Mufasa\", born = new(year: 1994, month: 6, day: 12) },\n",
    "    new Spider { name = \"Sid Vicious\", born = DateTime.Today, IsPoisonous = true},\n",
    "    new Spider { name = \"Captain Furry\", born = DateTime.Today }\n",
    "};"
   ]
  },
  {
   "cell_type": "code",
   "execution_count": 24,
   "metadata": {
    "dotnet_interactive": {
     "language": "csharp"
    },
    "vscode": {
     "languageId": "dotnet-interactive.csharp"
    }
   },
   "outputs": [
    {
     "name": "stdout",
     "output_type": "stream",
     "text": [
      "switch statement: The cat named Karen has four legs.\r\n",
      "switch statement: The animal is null.\r\n",
      "switch statement: The non-domestic cat is named Mufasa.\r\n",
      "switch statement: The Sid Vicious spider is poisonous. Run!\r\n",
      "switch statement: The animal named Captain Furry is a Spider.\r\n"
     ]
    }
   ],
   "source": [
    "foreach (Animal? animal in animals)\n",
    "{\n",
    "  string message;\n",
    "  switch (animal)\n",
    "  {\n",
    "    case Cat fourLeggedCat when fourLeggedCat.legs == 4:\n",
    "      message = $\"The cat named {fourLeggedCat.name} has four legs.\";\n",
    "      break;\n",
    "    case Cat wildCat when wildCat.IsDomestic == false:\n",
    "      message = $\"The non-domestic cat is named {wildCat.name}.\";\n",
    "      break;\n",
    "    case Cat cat:\n",
    "      message = $\"The cat is named {cat.name}.\";\n",
    "      break;\n",
    "    default: // default is always evaluated last\n",
    "      message = $\"The animal named {animal.name} is a {animal.GetType().Name}.\";\n",
    "      break;\n",
    "    case Spider spider when spider.IsPoisonous:\n",
    "      message = $\"The {spider.name} spider is poisonous. Run!\";\n",
    "      break;\n",
    "    case null:\n",
    "      message = \"The animal is null.\";\n",
    "      break;\n",
    "  }\n",
    "  WriteLine($\"switch statement: {message}\");\n",
    "}\n"
   ]
  },
  {
   "cell_type": "markdown",
   "metadata": {},
   "source": [
    "## Simplifying switch statements with switch expressions"
   ]
  },
  {
   "cell_type": "code",
   "execution_count": 23,
   "metadata": {
    "dotnet_interactive": {
     "language": "csharp"
    },
    "vscode": {
     "languageId": "dotnet-interactive.csharp"
    }
   },
   "outputs": [
    {
     "name": "stdout",
     "output_type": "stream",
     "text": [
      "switch expression: The cat Karen has four legs.\r\n",
      "switch expression: The animal is null.\r\n",
      "switch expression: The non-domestic cat is named Mufasa.\r\n",
      "switch expression: The Sid Vicious spider is poisonous. Run!\r\n",
      "switch expression: The animal named Captain Furry is a Spider.\r\n"
     ]
    }
   ],
   "source": [
    "foreach (Animal? animal in animals)\n",
    "{\n",
    "    string message = animal switch\n",
    "    {\n",
    "      Cat fourLeggedCat when fourLeggedCat.legs == 4\n",
    "        => $\"The cat {fourLeggedCat.name} has four legs.\",\n",
    "      Cat wildCat when wildCat.IsDomestic == false\n",
    "        => $\"The non-domestic cat is named {wildCat.name}.\",\n",
    "      Cat cat\n",
    "        => $\"The cat is named {cat.name}.\",\n",
    "      Spider spider when spider.IsPoisonous\n",
    "        => $\"The {spider.name} spider is poisonous. Run!\",\n",
    "      null\n",
    "        => \"The animal is null.\",\n",
    "      _\n",
    "        => $\"The animal named {animal.name} is a {animal.GetType().Name}.\"\n",
    "    };\n",
    "    WriteLine($\"switch expression: {message}\");\n",
    "}"
   ]
  }
 ],
 "metadata": {
  "kernelspec": {
   "display_name": ".NET (C#)",
   "language": "C#",
   "name": ".net-csharp"
  },
  "language_info": {
   "file_extension": ".cs",
   "mimetype": "text/x-csharp",
   "name": "C#",
   "pygments_lexer": "csharp",
   "version": "9.0"
  },
  "orig_nbformat": 4,
  "vscode": {
   "interpreter": {
    "hash": "8284ab3da31936186218f3fe2069af2305f3520e37195600f54ace61e12c89fb"
   }
  }
 },
 "nbformat": 4,
 "nbformat_minor": 2
}
