{
 "cells": [
  {
   "cell_type": "markdown",
   "metadata": {},
   "source": [
    "# Handling exceptions"
   ]
  },
  {
   "cell_type": "code",
   "execution_count": 1,
   "metadata": {
    "dotnet_interactive": {
     "language": "csharp"
    },
    "polyglot_notebook": {
     "kernelName": "csharp"
    },
    "vscode": {
     "languageId": "polyglot-notebook"
    }
   },
   "outputs": [],
   "source": [
    "using static System.Console;"
   ]
  },
  {
   "attachments": {},
   "cell_type": "markdown",
   "metadata": {
    "dotnet_interactive": {
     "language": "csharp"
    },
    "polyglot_notebook": {
     "kernelName": "csharp"
    }
   },
   "source": [
    "## Wrapping error-prone code in a try block"
   ]
  },
  {
   "cell_type": "code",
   "execution_count": 21,
   "metadata": {
    "dotnet_interactive": {
     "language": "csharp"
    },
    "polyglot_notebook": {
     "kernelName": "csharp"
    },
    "vscode": {
     "languageId": "polyglot-notebook"
    }
   },
   "outputs": [
    {
     "name": "stdout",
     "output_type": "stream",
     "text": [
      "Before parsing\n",
      "What is your age? \n",
      "Your age is a valid number format but it is either too big or small.\n",
      "After parsing\n"
     ]
    }
   ],
   "source": [
    "WriteLine(\"Before parsing\"); \n",
    "WriteLine(\"What is your age? \"); \n",
    "string? input = \"9876543210\";\n",
    "try\n",
    "{\n",
    "    int age = int.Parse(input); \n",
    "    WriteLine($\"You are {age} years old.\");\n",
    "}\n",
    "catch (OverflowException)\n",
    "{\n",
    "    WriteLine(\"Your age is a valid number format but it is either too big or small.\");\n",
    "}\n",
    "catch (FormatException)\n",
    "{\n",
    "    WriteLine(\"The age you entered is not a valid number format.\");\n",
    "}\n",
    "catch (ArgumentNullException)\n",
    "{\n",
    "    WriteLine(\"The age you entered can not be a null value\");\n",
    "}\n",
    "catch (Exception ex)\n",
    "{\n",
    "    WriteLine($\"{ex.GetType()} says {ex.Message}\");\n",
    "}\n",
    "WriteLine(\"After parsing\");"
   ]
  },
  {
   "cell_type": "code",
   "execution_count": 31,
   "metadata": {
    "dotnet_interactive": {
     "language": "csharp"
    },
    "polyglot_notebook": {
     "kernelName": "csharp"
    },
    "vscode": {
     "languageId": "polyglot-notebook"
    }
   },
   "outputs": [
    {
     "name": "stdout",
     "output_type": "stream",
     "text": [
      "Enter an amount: Amounts must only contain digits!\n"
     ]
    },
    {
     "data": {
      "text/html": [
       "<div class=\"dni-plaintext\"><pre>&lt;null&gt;</pre></div><style>\r\n",
       ".dni-code-hint {\r\n",
       "    font-style: italic;\r\n",
       "    overflow: hidden;\r\n",
       "    white-space: nowrap;\r\n",
       "}\r\n",
       ".dni-treeview {\r\n",
       "    white-space: nowrap;\r\n",
       "}\r\n",
       ".dni-treeview td {\r\n",
       "    vertical-align: top;\r\n",
       "    text-align: start;\r\n",
       "}\r\n",
       "details.dni-treeview {\r\n",
       "    padding-left: 1em;\r\n",
       "}\r\n",
       "table td {\r\n",
       "    text-align: start;\r\n",
       "}\r\n",
       "table tr { \r\n",
       "    vertical-align: top; \r\n",
       "    margin: 0em 0px;\r\n",
       "}\r\n",
       "table tr td pre \r\n",
       "{ \r\n",
       "    vertical-align: top !important; \r\n",
       "    margin: 0em 0px !important;\r\n",
       "} \r\n",
       "table th {\r\n",
       "    text-align: start;\r\n",
       "}\r\n",
       "</style>"
      ]
     },
     "metadata": {},
     "output_type": "display_data"
    }
   ],
   "source": [
    "Write(\"Enter an amount: \");\n",
    "string amount = \"nine\";\n",
    "if (string.IsNullOrEmpty(amount)) return;\n",
    "\n",
    "try\n",
    "{\n",
    "  decimal amountValue = decimal.Parse(amount);\n",
    "  WriteLine($\"Amount formatted as currency: {amountValue:C}\");\n",
    "}\n",
    "catch (FormatException) when (amount.Contains(\"$\"))\n",
    "{\n",
    "  WriteLine(\"Amounts cannot use the dollar sign!\");\n",
    "}\n",
    "catch (FormatException)\n",
    "{\n",
    "  WriteLine(\"Amounts must only contain digits!\");\n",
    "}"
   ]
  }
 ],
 "metadata": {
  "kernelspec": {
   "display_name": ".NET (C#)",
   "language": "C#",
   "name": ".net-csharp"
  },
  "polyglot_notebook": {
   "kernelInfo": {
    "defaultKernelName": "csharp",
    "items": [
     {
      "aliases": [
       "c#",
       "C#"
      ],
      "languageName": "C#",
      "name": "csharp"
     },
     {
      "aliases": [
       "frontend"
      ],
      "languageName": null,
      "name": "vscode"
     }
    ]
   }
  }
 },
 "nbformat": 4,
 "nbformat_minor": 2
}
