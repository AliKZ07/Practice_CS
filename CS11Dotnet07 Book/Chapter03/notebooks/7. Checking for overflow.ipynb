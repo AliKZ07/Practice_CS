{
 "cells": [
  {
   "cell_type": "markdown",
   "metadata": {
    "dotnet_interactive": {
     "language": "csharp"
    },
    "polyglot_notebook": {
     "kernelName": "csharp"
    }
   },
   "source": [
    "# Checking for overflow"
   ]
  },
  {
   "cell_type": "code",
   "execution_count": 1,
   "metadata": {
    "dotnet_interactive": {
     "language": "csharp"
    },
    "polyglot_notebook": {
     "kernelName": "csharp"
    },
    "vscode": {
     "languageId": "polyglot-notebook"
    }
   },
   "outputs": [],
   "source": [
    "using static System.Console;"
   ]
  },
  {
   "attachments": {},
   "cell_type": "markdown",
   "metadata": {
    "dotnet_interactive": {
     "language": "csharp"
    },
    "polyglot_notebook": {
     "kernelName": "csharp"
    }
   },
   "source": [
    "## Throwing overflow exceptions with the checked statement"
   ]
  },
  {
   "cell_type": "code",
   "execution_count": 2,
   "metadata": {
    "dotnet_interactive": {
     "language": "csharp"
    },
    "polyglot_notebook": {
     "kernelName": "csharp"
    },
    "vscode": {
     "languageId": "polyglot-notebook"
    }
   },
   "outputs": [
    {
     "name": "stdout",
     "output_type": "stream",
     "text": [
      "Initial value: 2147483646\n",
      "After incrementing: 2147483647\n",
      "After incrementing: -2147483648\n",
      "After incrementing: -2147483647\n"
     ]
    }
   ],
   "source": [
    "int x = int.MaxValue - 1; \n",
    "WriteLine($\"Initial value: {x}\"); \n",
    "x++;\n",
    "WriteLine($\"After incrementing: {x}\"); \n",
    "x++;\n",
    "WriteLine($\"After incrementing: {x}\"); \n",
    "x++;\n",
    "WriteLine($\"After incrementing: {x}\");"
   ]
  },
  {
   "cell_type": "code",
   "execution_count": 3,
   "metadata": {
    "dotnet_interactive": {
     "language": "csharp"
    },
    "polyglot_notebook": {
     "kernelName": "csharp"
    },
    "vscode": {
     "languageId": "polyglot-notebook"
    }
   },
   "outputs": [
    {
     "name": "stdout",
     "output_type": "stream",
     "text": [
      "Initial value: 2147483646\n",
      "After incrementing: 2147483647\n"
     ]
    },
    {
     "ename": "Error",
     "evalue": "System.OverflowException: Arithmetic operation resulted in an overflow.\r\n   at Submission#4.<<Initialize>>d__0.MoveNext()\r\n--- End of stack trace from previous location ---\r\n   at Microsoft.CodeAnalysis.Scripting.ScriptExecutionState.RunSubmissionsAsync[TResult](ImmutableArray`1 precedingExecutors, Func`2 currentExecutor, StrongBox`1 exceptionHolderOpt, Func`2 catchExceptionOpt, CancellationToken cancellationToken)",
     "output_type": "error",
     "traceback": [
      "System.OverflowException: Arithmetic operation resulted in an overflow.\r\n",
      "   at Submission#4.<<Initialize>>d__0.MoveNext()\r\n",
      "--- End of stack trace from previous location ---\r\n",
      "   at Microsoft.CodeAnalysis.Scripting.ScriptExecutionState.RunSubmissionsAsync[TResult](ImmutableArray`1 precedingExecutors, Func`2 currentExecutor, StrongBox`1 exceptionHolderOpt, Func`2 catchExceptionOpt, CancellationToken cancellationToken)"
     ]
    }
   ],
   "source": [
    "checked\n",
    "{\n",
    "    int x = int.MaxValue - 1; \n",
    "    WriteLine($\"Initial value: {x}\"); \n",
    "    x++;\n",
    "    WriteLine($\"After incrementing: {x}\"); \n",
    "    x++;\n",
    "    WriteLine($\"After incrementing: {x}\"); \n",
    "    x++;\n",
    "    WriteLine($\"After incrementing: {x}\");\n",
    "}"
   ]
  },
  {
   "cell_type": "code",
   "execution_count": 5,
   "metadata": {
    "dotnet_interactive": {
     "language": "csharp"
    },
    "polyglot_notebook": {
     "kernelName": "csharp"
    },
    "vscode": {
     "languageId": "polyglot-notebook"
    }
   },
   "outputs": [
    {
     "name": "stdout",
     "output_type": "stream",
     "text": [
      "Initial value: 2147483646\n",
      "After incrementing: 2147483647\n",
      "The code overflowed but I caught the exception.\n"
     ]
    }
   ],
   "source": [
    "try\n",
    "{\n",
    "    checked\n",
    "    {\n",
    "        int x = int.MaxValue - 1; \n",
    "        WriteLine($\"Initial value: {x}\"); \n",
    "        x++;\n",
    "        WriteLine($\"After incrementing: {x}\"); \n",
    "        x++;\n",
    "        WriteLine($\"After incrementing: {x}\"); \n",
    "        x++;\n",
    "        WriteLine($\"After incrementing: {x}\");\n",
    "    }\n",
    "}\n",
    "catch (OverflowException)\n",
    "{\n",
    "  WriteLine(\"The code overflowed but I caught the exception.\");\n",
    "}"
   ]
  },
  {
   "cell_type": "code",
   "execution_count": 7,
   "metadata": {
    "dotnet_interactive": {
     "language": "csharp"
    },
    "polyglot_notebook": {
     "kernelName": "csharp"
    },
    "vscode": {
     "languageId": "polyglot-notebook"
    }
   },
   "outputs": [
    {
     "name": "stdout",
     "output_type": "stream",
     "text": [
      "Initial value: -2147483648\n",
      "After decrementing: 2147483647\n",
      "After decrementing: 2147483646\n"
     ]
    }
   ],
   "source": [
    "unchecked\n",
    "{\n",
    "    int y = int.MaxValue + 1; \n",
    "    WriteLine($\"Initial value: {y}\"); \n",
    "    y--;\n",
    "    WriteLine($\"After decrementing: {y}\"); \n",
    "    y--;\n",
    "    WriteLine($\"After decrementing: {y}\");\n",
    "}"
   ]
  }
 ],
 "metadata": {
  "kernelspec": {
   "display_name": ".NET (C#)",
   "language": "C#",
   "name": ".net-csharp"
  },
  "polyglot_notebook": {
   "kernelInfo": {
    "defaultKernelName": "csharp",
    "items": [
     {
      "aliases": [
       "c#",
       "C#"
      ],
      "languageName": "C#",
      "name": "csharp"
     },
     {
      "aliases": [],
      "languageName": "Mermaid",
      "name": "mermaid"
     },
     {
      "aliases": [
       "frontend"
      ],
      "name": "vscode"
     },
     {
      "aliases": [],
      "name": ".NET"
     },
     {
      "aliases": [
       "f#",
       "F#"
      ],
      "languageName": "F#",
      "name": "fsharp"
     },
     {
      "aliases": [],
      "languageName": "HTML",
      "name": "html"
     },
     {
      "aliases": [
       "js"
      ],
      "languageName": "JavaScript",
      "name": "javascript"
     },
     {
      "aliases": [],
      "languageName": "KQL",
      "name": "kql"
     },
     {
      "aliases": [
       "powershell"
      ],
      "languageName": "PowerShell",
      "name": "pwsh"
     },
     {
      "aliases": [],
      "languageName": "SQL",
      "name": "sql"
     },
     {
      "aliases": [],
      "name": "value"
     },
     {
      "aliases": [],
      "name": "webview"
     }
    ]
   }
  }
 },
 "nbformat": 4,
 "nbformat_minor": 2
}
