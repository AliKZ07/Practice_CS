{
 "cells": [
  {
   "cell_type": "markdown",
   "metadata": {},
   "source": [
    "# Storing multiple values in an array"
   ]
  },
  {
   "cell_type": "code",
   "execution_count": 1,
   "metadata": {
    "dotnet_interactive": {
     "language": "csharp"
    },
    "vscode": {
     "languageId": "dotnet-interactive.csharp"
    }
   },
   "outputs": [],
   "source": [
    "using static System.Console;"
   ]
  },
  {
   "cell_type": "markdown",
   "metadata": {},
   "source": [
    "## Working with multi-dimensional arrays"
   ]
  },
  {
   "cell_type": "code",
   "execution_count": 6,
   "metadata": {
    "dotnet_interactive": {
     "language": "csharp"
    },
    "vscode": {
     "languageId": "dotnet-interactive.csharp"
    }
   },
   "outputs": [],
   "source": [
    "// string[,] grid2 = new string[3,4];\n",
    "string[,] grid1 = new[,]\n",
    "{\n",
    "  { \"Alpha\", \"Beta\", \"Gamma\", \"Delta\" },\n",
    "  { \"Anne\", \"Ben\", \"Charlie\", \"Doug\" },\n",
    "  { \"Aardvark\", \"Bear\", \"Cat\", \"Dog\" }\n",
    "};"
   ]
  },
  {
   "cell_type": "code",
   "execution_count": 7,
   "metadata": {
    "dotnet_interactive": {
     "language": "csharp"
    },
    "vscode": {
     "languageId": "dotnet-interactive.csharp"
    }
   },
   "outputs": [
    {
     "name": "stdout",
     "output_type": "stream",
     "text": [
      "Lower bound of the first dimension is: 0\r\n",
      "Upper bound of the first dimension is: 2\r\n",
      "Lower bound of the second dimension is: 0\r\n",
      "Upper bound of the second dimension is: 3\r\n"
     ]
    }
   ],
   "source": [
    "WriteLine($\"Lower bound of the first dimension is: {grid1.GetLowerBound(0)}\");\n",
    "WriteLine($\"Upper bound of the first dimension is: {grid1.GetUpperBound(0)}\");\n",
    "WriteLine($\"Lower bound of the second dimension is: {grid1.GetLowerBound(1)}\");\n",
    "WriteLine($\"Upper bound of the second dimension is: {grid1.GetUpperBound(1)}\");"
   ]
  },
  {
   "cell_type": "code",
   "execution_count": 8,
   "metadata": {
    "dotnet_interactive": {
     "language": "csharp"
    },
    "vscode": {
     "languageId": "dotnet-interactive.csharp"
    }
   },
   "outputs": [
    {
     "name": "stdout",
     "output_type": "stream",
     "text": [
      "Row 0, Column 0: Alpha\r\n",
      "Row 0, Column 1: Beta\r\n",
      "Row 0, Column 2: Gamma\r\n",
      "Row 0, Column 3: Delta\r\n",
      "Row 1, Column 0: Anne\r\n",
      "Row 1, Column 1: Ben\r\n",
      "Row 1, Column 2: Charlie\r\n",
      "Row 1, Column 3: Doug\r\n",
      "Row 2, Column 0: Aardvark\r\n",
      "Row 2, Column 1: Bear\r\n",
      "Row 2, Column 2: Cat\r\n",
      "Row 2, Column 3: Dog\r\n"
     ]
    }
   ],
   "source": [
    "for (int row = 0; row <= grid1.GetUpperBound(0); row++)\n",
    "{\n",
    "  for (int col = 0; col <= grid1.GetUpperBound(1); col++)\n",
    "  {\n",
    "    WriteLine($\"Row {row}, Column {col}: {grid1[row, col]}\");\n",
    "  }\n",
    "}"
   ]
  },
  {
   "cell_type": "markdown",
   "metadata": {},
   "source": [
    "## Working with jagged arrays"
   ]
  },
  {
   "cell_type": "code",
   "execution_count": 9,
   "metadata": {
    "dotnet_interactive": {
     "language": "csharp"
    },
    "vscode": {
     "languageId": "dotnet-interactive.csharp"
    }
   },
   "outputs": [],
   "source": [
    "string[][] jagged = new[]\n",
    "{\n",
    "  new[] { \"Alpha\", \"Beta\", \"Gamma\" },\n",
    "  new[] { \"Anne\", \"Ben\", \"Charlie\", \"Doug\" },\n",
    "  new[] { \"Aardvark\", \"Bear\" }\n",
    "};"
   ]
  },
  {
   "cell_type": "code",
   "execution_count": 14,
   "metadata": {
    "dotnet_interactive": {
     "language": "csharp"
    },
    "vscode": {
     "languageId": "dotnet-interactive.csharp"
    }
   },
   "outputs": [
    {
     "name": "stdout",
     "output_type": "stream",
     "text": [
      "Upper bound of array of arrays is: 2\r\n",
      "Upper bound of array 0 is: 2\r\n",
      "Upper bound of array 1 is: 3\r\n",
      "Upper bound of array 2 is: 1\r\n"
     ]
    }
   ],
   "source": [
    "WriteLine(\"Upper bound of array of arrays is: {0}\", jagged.GetUpperBound(0));\n",
    "\n",
    "for (int array = 0; array <= jagged.GetUpperBound(0); array++)\n",
    "{\n",
    "  WriteLine(\"Upper bound of array {0} is: {1}\",\n",
    "    arg0: array,\n",
    "    arg1: jagged[array].GetUpperBound(0));\n",
    "    //arg1: jagged[array].GetUpperBound(0) + 1);\n",
    "}"
   ]
  },
  {
   "cell_type": "code",
   "execution_count": 15,
   "metadata": {
    "dotnet_interactive": {
     "language": "csharp"
    },
    "vscode": {
     "languageId": "dotnet-interactive.csharp"
    }
   },
   "outputs": [
    {
     "name": "stdout",
     "output_type": "stream",
     "text": [
      "Row 0, Column 0: Alpha\r\n",
      "Row 0, Column 1: Beta\r\n",
      "Row 0, Column 2: Gamma\r\n",
      "Row 1, Column 0: Anne\r\n",
      "Row 1, Column 1: Ben\r\n",
      "Row 1, Column 2: Charlie\r\n",
      "Row 1, Column 3: Doug\r\n",
      "Row 2, Column 0: Aardvark\r\n",
      "Row 2, Column 1: Bear\r\n"
     ]
    }
   ],
   "source": [
    "for (int row = 0; row <= jagged.GetUpperBound(0); row++)\n",
    "{\n",
    "  for (int col = 0; col <= jagged[row].GetUpperBound(0); col++)\n",
    "  {\n",
    "    WriteLine($\"Row {row}, Column {col}: {jagged[row][col]}\");\n",
    "  }\n",
    "}"
   ]
  },
  {
   "cell_type": "markdown",
   "metadata": {},
   "source": [
    "## List pattern matching with arrays"
   ]
  },
  {
   "cell_type": "code",
   "execution_count": null,
   "metadata": {
    "dotnet_interactive": {
     "language": "csharp"
    },
    "vscode": {
     "languageId": "dotnet-interactive.csharp"
    }
   },
   "outputs": [],
   "source": [
    "int[] sequentialNumbers = new int[] { 1, 2, 3, 4, 5, 6, 7, 8, 9, 10 };\n",
    "int[] oneTwoNumbers = new int[] { 1, 2 };\n",
    "int[] oneTwoTenNumbers = new int[] { 1, 2, 10 };\n",
    "int[] oneTwoThreeTenNumbers = new int[] { 1, 2, 3, 10 };\n",
    "int[] primeNumbers = new int[] { 2, 3, 5, 7, 11, 13, 17, 19, 23, 29 };\n",
    "int[] fibonacciNumbers = new int[] { 0, 1, 1, 2, 3, 5, 8, 13, 21, 34, 55, 89 };\n",
    "int[] emptyNumbers = new int[] { };\n",
    "int[] threeNumbers = new int[] { 9, 7, 5 };\n",
    "int[] sixNumbers = new int[] { 9, 7, 5, 4, 2, 10 };\n",
    "\n",
    "WriteLine($\"{nameof(sequentialNumbers)}: {CheckSwitch(sequentialNumbers)}\");\n",
    "WriteLine($\"{nameof(oneTwoNumbers)}: {CheckSwitch(oneTwoNumbers)}\");\n",
    "WriteLine($\"{nameof(oneTwoTenNumbers)}: {CheckSwitch(oneTwoTenNumbers)}\");\n",
    "WriteLine($\"{nameof(oneTwoThreeTenNumbers)}: {CheckSwitch(oneTwoThreeTenNumbers)}\");\n",
    "WriteLine($\"{nameof(primeNumbers)}: {CheckSwitch(primeNumbers)}\");\n",
    "WriteLine($\"{nameof(fibonacciNumbers)}: {CheckSwitch(fibonacciNumbers)}\");\n",
    "WriteLine($\"{nameof(emptyNumbers)}: {CheckSwitch(emptyNumbers)}\");\n",
    "WriteLine($\"{nameof(threeNumbers)}: {CheckSwitch(threeNumbers)}\");\n",
    "WriteLine($\"{nameof(sixNumbers)}: {CheckSwitch(sixNumbers)}\");\n",
    "\n",
    "// NOTE: The feature 'list pattern' is currently in Preview and *unsupported*. To use Preview features, use the 'preview' language version.\n",
    "static string CheckSwitch(int[] values) => values switch\n",
    "{\n",
    "    [] => \"Empty array\",\n",
    "    [1, 2, _, 10] => \"Contains 1, 2, any single number, 10.\",\n",
    "    [1, 2, .., 10] => \"Contains 1, 2, any range including empty, 10.\",\n",
    "    [1, 2] => \"Contains 1 then 2.\",\n",
    "    [int item1, int item2, int item3] => $\"Contains {item1} then {item2} then {item3}.\",\n",
    "    [0, _] => \"Starts with 0, then one other number.\",\n",
    "    [0, ..] => \"Starts with 0, then any range of numbers.\",\n",
    "    [2, .. int[] others] => $\"Starts with 2, then {others.Length} more numbers.\",\n",
    "    [..] => \"Any items in any order.\",\n",
    "};"
   ]
  },
  {
   "cell_type": "markdown",
   "metadata": {},
   "source": [
    "![List pattern matching with arrays](../../../content/images/RES-List.pattern.matching.with.arrays.jpg)\n",
    ">[Source](../../../content/images/RES-List.pattern.matching.with.arrays.jpg)"
   ]
  }
 ],
 "metadata": {
  "kernelspec": {
   "display_name": ".NET (C#)",
   "language": "C#",
   "name": ".net-csharp"
  },
  "language_info": {
   "file_extension": ".cs",
   "mimetype": "text/x-csharp",
   "name": "C#",
   "pygments_lexer": "csharp",
   "version": "9.0"
  },
  "orig_nbformat": 4,
  "vscode": {
   "interpreter": {
    "hash": "8284ab3da31936186218f3fe2069af2305f3520e37195600f54ace61e12c89fb"
   }
  }
 },
 "nbformat": 4,
 "nbformat_minor": 2
}
