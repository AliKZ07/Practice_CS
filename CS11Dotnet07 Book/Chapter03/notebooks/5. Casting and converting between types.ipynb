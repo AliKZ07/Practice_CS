{
 "cells": [
  {
   "attachments": {},
   "cell_type": "markdown",
   "metadata": {},
   "source": [
    "# Casting and converting between types"
   ]
  },
  {
   "cell_type": "code",
   "execution_count": 1,
   "metadata": {
    "dotnet_interactive": {
     "language": "csharp"
    },
    "polyglot_notebook": {
     "kernelName": "csharp"
    },
    "vscode": {
     "languageId": "polyglot-notebook"
    }
   },
   "outputs": [],
   "source": [
    "using static System.Console;"
   ]
  },
  {
   "attachments": {},
   "cell_type": "markdown",
   "metadata": {
    "dotnet_interactive": {
     "language": "csharp"
    },
    "polyglot_notebook": {
     "kernelName": "csharp"
    }
   },
   "source": [
    "## Casting numbers implicitly and explicitly"
   ]
  },
  {
   "cell_type": "code",
   "execution_count": 2,
   "metadata": {
    "dotnet_interactive": {
     "language": "csharp"
    },
    "polyglot_notebook": {
     "kernelName": "csharp"
    },
    "vscode": {
     "languageId": "polyglot-notebook"
    }
   },
   "outputs": [
    {
     "name": "stdout",
     "output_type": "stream",
     "text": [
      "10\r\n"
     ]
    }
   ],
   "source": [
    "int a = 10;\n",
    "double b = a; // an int can be safely cast into a double\n",
    "WriteLine(b)"
   ]
  },
  {
   "cell_type": "code",
   "execution_count": 3,
   "metadata": {
    "dotnet_interactive": {
     "language": "csharp"
    },
    "polyglot_notebook": {
     "kernelName": "csharp"
    },
    "vscode": {
     "languageId": "polyglot-notebook"
    }
   },
   "outputs": [
    {
     "ename": "Error",
     "evalue": "(2,9): error CS0266: Cannot implicitly convert type 'double' to 'int'. An explicit conversion exists (are you missing a cast?)",
     "output_type": "error",
     "traceback": [
      "(2,9): error CS0266: Cannot implicitly convert type 'double' to 'int'. An explicit conversion exists (are you missing a cast?)"
     ]
    }
   ],
   "source": [
    "double c = 9.8;\n",
    "int d = c; // compiler gives an error for this line\n",
    "WriteLine(d);"
   ]
  },
  {
   "cell_type": "code",
   "execution_count": 5,
   "metadata": {
    "dotnet_interactive": {
     "language": "csharp"
    },
    "polyglot_notebook": {
     "kernelName": "csharp"
    },
    "vscode": {
     "languageId": "polyglot-notebook"
    }
   },
   "outputs": [
    {
     "name": "stdout",
     "output_type": "stream",
     "text": [
      "9\r\n"
     ]
    }
   ],
   "source": [
    "double c = 9.8;\n",
    "int d = (int)c;\n",
    "WriteLine(d); // d is 9 losing the .8 part"
   ]
  },
  {
   "cell_type": "code",
   "execution_count": 7,
   "metadata": {
    "dotnet_interactive": {
     "language": "csharp"
    },
    "polyglot_notebook": {
     "kernelName": "csharp"
    },
    "vscode": {
     "languageId": "polyglot-notebook"
    }
   },
   "outputs": [
    {
     "name": "stdout",
     "output_type": "stream",
     "text": [
      "e is 10 and f is 10\n",
      "e is 9,223,372,036,854,775,807 and f is -1\n",
      "e is 5,000,000,000 and f is 705,032,704\n"
     ]
    }
   ],
   "source": [
    "long e = 10; \n",
    "int f = (int)e;\n",
    "WriteLine($\"e is {e:N0} and f is {f:N0}\");\n",
    "e = long.MaxValue;\n",
    "f = (int)e;\n",
    "WriteLine($\"e is {e:N0} and f is {f:N0}\");\n",
    "e = 5_000_000_000;\n",
    "f = (int)e;\n",
    "WriteLine($\"e is {e:N0} and f is {f:N0}\");"
   ]
  },
  {
   "attachments": {},
   "cell_type": "markdown",
   "metadata": {
    "dotnet_interactive": {
     "language": "csharp"
    },
    "polyglot_notebook": {
     "kernelName": "csharp"
    }
   },
   "source": [
    "## Converting with the System.Convert type"
   ]
  },
  {
   "cell_type": "code",
   "execution_count": 8,
   "metadata": {
    "dotnet_interactive": {
     "language": "csharp"
    },
    "polyglot_notebook": {
     "kernelName": "csharp"
    },
    "vscode": {
     "languageId": "polyglot-notebook"
    }
   },
   "outputs": [],
   "source": [
    "using static System.Convert;"
   ]
  },
  {
   "cell_type": "code",
   "execution_count": 11,
   "metadata": {
    "dotnet_interactive": {
     "language": "csharp"
    },
    "polyglot_notebook": {
     "kernelName": "csharp"
    },
    "vscode": {
     "languageId": "polyglot-notebook"
    }
   },
   "outputs": [
    {
     "name": "stdout",
     "output_type": "stream",
     "text": [
      "g is 9.8 and h is 10\r\n"
     ]
    }
   ],
   "source": [
    "double g = 9.8;\n",
    "int h = ToInt32(g); // a method of System.Convert\n",
    "//int h = (int)g;\n",
    "WriteLine($\"g is {g} and h is {h}\");"
   ]
  },
  {
   "attachments": {},
   "cell_type": "markdown",
   "metadata": {
    "dotnet_interactive": {
     "language": "csharp"
    },
    "polyglot_notebook": {
     "kernelName": "csharp"
    }
   },
   "source": [
    "## Rounding numbers"
   ]
  },
  {
   "cell_type": "code",
   "execution_count": 13,
   "metadata": {
    "dotnet_interactive": {
     "language": "csharp"
    },
    "polyglot_notebook": {
     "kernelName": "csharp"
    },
    "vscode": {
     "languageId": "polyglot-notebook"
    }
   },
   "outputs": [
    {
     "name": "stdout",
     "output_type": "stream",
     "text": [
      "ToInt32(9.49) is 9\n",
      "ToInt32(9.5) is 10\n",
      "ToInt32(9.51) is 10\n",
      "ToInt32(10.49) is 10\n",
      "ToInt32(10.5) is 10\n",
      "ToInt32(10.51) is 11\n"
     ]
    }
   ],
   "source": [
    "double[] doubles = new[]\n",
    "  { 9.49, 9.5, 9.51, 10.49, 10.5, 10.51 };\n",
    "  \n",
    "foreach (double n in doubles)\n",
    "{\n",
    "  WriteLine($\"ToInt32({n}) is {ToInt32(n)}\");\n",
    "}"
   ]
  },
  {
   "attachments": {},
   "cell_type": "markdown",
   "metadata": {
    "dotnet_interactive": {
     "language": "csharp"
    },
    "polyglot_notebook": {
     "kernelName": "csharp"
    }
   },
   "source": [
    "## Taking control of rounding rules"
   ]
  },
  {
   "cell_type": "code",
   "execution_count": 14,
   "metadata": {
    "dotnet_interactive": {
     "language": "csharp"
    },
    "polyglot_notebook": {
     "kernelName": "csharp"
    },
    "vscode": {
     "languageId": "polyglot-notebook"
    }
   },
   "outputs": [
    {
     "name": "stdout",
     "output_type": "stream",
     "text": [
      "Math.Round(9.49, 0, MidpointRounding.AwayFromZero) is 9\n",
      "Math.Round(9.5, 0, MidpointRounding.AwayFromZero) is 10\n",
      "Math.Round(9.51, 0, MidpointRounding.AwayFromZero) is 10\n",
      "Math.Round(10.49, 0, MidpointRounding.AwayFromZero) is 10\n",
      "Math.Round(10.5, 0, MidpointRounding.AwayFromZero) is 11\n",
      "Math.Round(10.51, 0, MidpointRounding.AwayFromZero) is 11\n"
     ]
    }
   ],
   "source": [
    "foreach (double n in doubles)\n",
    "{\n",
    "  WriteLine(format:\n",
    "    \"Math.Round({0}, 0, MidpointRounding.AwayFromZero) is {1}\",\n",
    "    arg0: n,\n",
    "    arg1: Math.Round(value: n, digits: 0,\n",
    "            mode: MidpointRounding.AwayFromZero));\n",
    "}"
   ]
  },
  {
   "attachments": {},
   "cell_type": "markdown",
   "metadata": {
    "dotnet_interactive": {
     "language": "csharp"
    },
    "polyglot_notebook": {
     "kernelName": "csharp"
    }
   },
   "source": [
    "## Converting from any type to a string"
   ]
  },
  {
   "cell_type": "code",
   "execution_count": 15,
   "metadata": {
    "dotnet_interactive": {
     "language": "csharp"
    },
    "polyglot_notebook": {
     "kernelName": "csharp"
    },
    "vscode": {
     "languageId": "polyglot-notebook"
    }
   },
   "outputs": [
    {
     "name": "stdout",
     "output_type": "stream",
     "text": [
      "12\n",
      "True\n",
      "1/5/2023 9:31:58 PM\n",
      "System.Object\n"
     ]
    }
   ],
   "source": [
    "int number = 12; \n",
    "WriteLine(number.ToString());\n",
    "bool boolean = true; \n",
    "WriteLine(boolean.ToString());\n",
    "DateTime now = DateTime.Now; \n",
    "WriteLine(now.ToString());\n",
    "object me = new(); \n",
    "WriteLine(me.ToString());"
   ]
  },
  {
   "attachments": {},
   "cell_type": "markdown",
   "metadata": {
    "dotnet_interactive": {
     "language": "csharp"
    },
    "polyglot_notebook": {
     "kernelName": "csharp"
    }
   },
   "source": [
    "## Converting from a binary object to a string"
   ]
  },
  {
   "cell_type": "code",
   "execution_count": 23,
   "metadata": {
    "dotnet_interactive": {
     "language": "csharp"
    },
    "polyglot_notebook": {
     "kernelName": "csharp"
    },
    "vscode": {
     "languageId": "polyglot-notebook"
    }
   },
   "outputs": [
    {
     "name": "stdout",
     "output_type": "stream",
     "text": [
      "Binary Object as bytes:\n",
      "4D DC AF B7 92 30 B6 58 DB 20 3E C0 DF A0 7A B4 CE 59 57 12 9D 54 C9 37 1C 37 4B C3 AF 2F 14 D9 C2 45 2F F6 BB ED 8E 43 9E BA 13 9E 8B 63 D B3 AC 4C C0 60 E 24 FB 9F 3F AC 0 6B 7D E3 41 DD FC A0 49 3F 2D 45 36 2B E8 72 90 19 CD B2 6A BA 5D BE BE A 64 E9 34 E6 45 F5 81 38 A4 EF E1 2C 87 B8 48 35 52 A BC A3 D3 61 D2 A9 2E 10 4E DA 3E D3 6A 79 ED 5C 16 B2 6C E5 FA 9D 4B 81 53 21 \n",
      "Binary Object as Base64: Tdyvt5IwtljbID7A36B6tM5ZVxKdVMk3HDdLw68vFNnCRS/2u+2OQ566E56LYw2zrEzAYA4k+58/rABrfeNB3fygST8tRTYr6HKQGc2yarpdvr4KZOk05kX1gTik7+Esh7hINVIKvKPTYdKpLhBO2j7TanntXBaybOX6nUuBUyE=\n"
     ]
    }
   ],
   "source": [
    "// allocate array of 128 bytes\n",
    "byte[] binaryObject = new byte[128];\n",
    "\n",
    "// populate array with random bytes \n",
    "Random.Shared.NextBytes(binaryObject);\n",
    "\n",
    "WriteLine(\"Binary Object as bytes:\");\n",
    "for(int index = 0; index < binaryObject.Length; index++)\n",
    "{\n",
    "  Write($\"{binaryObject[index]:X} \");\n",
    "}\n",
    "WriteLine();\n",
    "\n",
    "// convert to Base64 string and output as text\n",
    "string encoded = ToBase64String(binaryObject);\n",
    "WriteLine($\"Binary Object as Base64: {encoded}\");"
   ]
  },
  {
   "attachments": {},
   "cell_type": "markdown",
   "metadata": {
    "dotnet_interactive": {
     "language": "csharp"
    },
    "polyglot_notebook": {
     "kernelName": "csharp"
    }
   },
   "source": [
    "## Parsing from strings to numbers or dates and times"
   ]
  },
  {
   "cell_type": "code",
   "execution_count": 33,
   "metadata": {
    "dotnet_interactive": {
     "language": "csharp"
    },
    "polyglot_notebook": {
     "kernelName": "csharp"
    },
    "vscode": {
     "languageId": "polyglot-notebook"
    }
   },
   "outputs": [
    {
     "name": "stdout",
     "output_type": "stream",
     "text": [
      "I was born 18 years ago.\n",
      "My birthday is 12/26/2003 12:00:00 AM.\n",
      "My birthday is Friday, December 26, 2003.\n"
     ]
    }
   ],
   "source": [
    "int age = int.Parse(\"18\");\n",
    "DateTime birthday = DateTime.Parse(\"26 Dec 2003\");\n",
    "WriteLine($\"I was born {age} years ago.\"); \n",
    "WriteLine($\"My birthday is {birthday}.\"); \n",
    "WriteLine($\"My birthday is {birthday:D}.\");"
   ]
  },
  {
   "cell_type": "code",
   "execution_count": 36,
   "metadata": {
    "dotnet_interactive": {
     "language": "csharp"
    },
    "polyglot_notebook": {
     "kernelName": "csharp"
    },
    "vscode": {
     "languageId": "polyglot-notebook"
    }
   },
   "outputs": [
    {
     "name": "stdout",
     "output_type": "stream",
     "text": [
      "How many eggs are there? \n",
      "I could not parse the input.\n"
     ]
    }
   ],
   "source": [
    "WriteLine(\"How many eggs are there? \"); \n",
    "string? input = \"Twelve\";\n",
    "\n",
    "if (int.TryParse(input, out int count))\n",
    "{\n",
    "  WriteLine($\"There are {count} eggs.\");\n",
    "}\n",
    "else\n",
    "{\n",
    "  WriteLine(\"I could not parse the input.\");\n",
    "}"
   ]
  }
 ],
 "metadata": {
  "kernelspec": {
   "display_name": ".NET (C#)",
   "language": "C#",
   "name": ".net-csharp"
  },
  "polyglot_notebook": {
   "kernelInfo": {
    "defaultKernelName": "csharp",
    "items": [
     {
      "aliases": [
       "c#",
       "C#"
      ],
      "languageName": "C#",
      "name": "csharp"
     },
     {
      "aliases": [
       "frontend"
      ],
      "languageName": null,
      "name": "vscode"
     }
    ]
   }
  }
 },
 "nbformat": 4,
 "nbformat_minor": 2
}
