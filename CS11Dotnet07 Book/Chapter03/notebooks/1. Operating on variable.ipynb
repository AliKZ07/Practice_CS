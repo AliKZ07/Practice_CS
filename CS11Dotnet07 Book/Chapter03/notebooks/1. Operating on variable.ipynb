{
 "cells": [
  {
   "cell_type": "markdown",
   "metadata": {
    "dotnet_interactive": {
     "language": "csharp"
    }
   },
   "source": [
    "# Operating on variable"
   ]
  },
  {
   "cell_type": "code",
   "execution_count": 24,
   "metadata": {
    "dotnet_interactive": {
     "language": "csharp"
    },
    "vscode": {
     "languageId": "dotnet-interactive.csharp"
    }
   },
   "outputs": [],
   "source": [
    "using static System.Console;"
   ]
  },
  {
   "cell_type": "markdown",
   "metadata": {},
   "source": [
    "## Exploring unary operators"
   ]
  },
  {
   "cell_type": "code",
   "execution_count": 26,
   "metadata": {
    "dotnet_interactive": {
     "language": "csharp"
    },
    "vscode": {
     "languageId": "dotnet-interactive.csharp"
    }
   },
   "outputs": [
    {
     "name": "stdout",
     "output_type": "stream",
     "text": [
      "a is 4, b is 3\r\n",
      "c is 4, d is 4\r\n"
     ]
    }
   ],
   "source": [
    "int a = 3;\n",
    "int b = a++;\n",
    "WriteLine($\"a is {a}, b is {b}\");\n",
    "\n",
    "int c = 3;\n",
    "int d = ++c;\n",
    "WriteLine($\"c is {c}, d is {d}\");"
   ]
  },
  {
   "cell_type": "markdown",
   "metadata": {},
   "source": [
    "## Exploring binary arithmetic operators"
   ]
  },
  {
   "cell_type": "code",
   "execution_count": 35,
   "metadata": {
    "dotnet_interactive": {
     "language": "csharp"
    },
    "vscode": {
     "languageId": "dotnet-interactive.csharp"
    }
   },
   "outputs": [
    {
     "name": "stdout",
     "output_type": "stream",
     "text": [
      "e is 11, f is 3, g is 11.0, d is 11.0\r\n",
      "e / f = 3\r\n",
      "g / f = 3.6666666666666665\r\n",
      "d / f = 3.6666666666666666666666666667\r\n"
     ]
    }
   ],
   "source": [
    "int e = 11;\n",
    "int f = 3;\n",
    "double g = 11.0;\n",
    "decimal d = 11.0M;\n",
    "\n",
    "WriteLine($\"e is {e}, f is {f}, g is {g:N1}, d is {d:N1}\");\n",
    "WriteLine($\"e / f = {e / f}\");\n",
    "WriteLine($\"g / f = {g / f}\");\n",
    "WriteLine($\"d / f = {d / f}\");"
   ]
  },
  {
   "cell_type": "markdown",
   "metadata": {},
   "source": [
    "## Exploring logical operators"
   ]
  },
  {
   "cell_type": "code",
   "execution_count": 45,
   "metadata": {
    "dotnet_interactive": {
     "language": "csharp"
    },
    "vscode": {
     "languageId": "dotnet-interactive.csharp"
    }
   },
   "outputs": [
    {
     "name": "stdout",
     "output_type": "stream",
     "text": [
      "AND  | a     | b    \r\n",
      "a    | True  | False \r\n",
      "b    | False | False \r\n",
      "\r\n",
      "OR   | a     | b    \r\n",
      "a    | True  | True  \r\n",
      "b    | True  | False \r\n",
      "\r\n",
      "XOR  | a     | b    \r\n",
      "a    | False | True  \r\n",
      "b    | True  | False \r\n"
     ]
    }
   ],
   "source": [
    "bool a = true;\n",
    "bool b = false;\n",
    "\n",
    "WriteLine($\"AND  | a     | b    \");\n",
    "WriteLine($\"a    | {a & a,-5} | {a & b,-5} \");\n",
    "WriteLine($\"b    | {b & a,-5} | {b & b,-5} \");\n",
    "WriteLine();\n",
    "WriteLine($\"OR   | a     | b    \");\n",
    "WriteLine($\"a    | {a | a,-5} | {a | b,-5} \");\n",
    "WriteLine($\"b    | {b | a,-5} | {b | b,-5} \");\n",
    "WriteLine();\n",
    "WriteLine($\"XOR  | a     | b    \");\n",
    "WriteLine($\"a    | {a ^ a,-5} | {a ^ b,-5} \");\n",
    "WriteLine($\"b    | {b ^ a,-5} | {b ^ b,-5} \");"
   ]
  },
  {
   "cell_type": "markdown",
   "metadata": {},
   "source": [
    "## Exploring conditional logical operators"
   ]
  },
  {
   "cell_type": "code",
   "execution_count": 55,
   "metadata": {
    "dotnet_interactive": {
     "language": "csharp"
    },
    "vscode": {
     "languageId": "dotnet-interactive.csharp"
    }
   },
   "outputs": [],
   "source": [
    "static bool DoStuff()\n",
    "{\n",
    "  WriteLine(\"I am doing some stuff.\");\n",
    "  return true;\n",
    "}"
   ]
  },
  {
   "cell_type": "code",
   "execution_count": 59,
   "metadata": {
    "dotnet_interactive": {
     "language": "csharp"
    },
    "vscode": {
     "languageId": "dotnet-interactive.csharp"
    }
   },
   "outputs": [
    {
     "name": "stdout",
     "output_type": "stream",
     "text": [
      "I am doing some stuff.\r\n",
      "a & DoStuff() = True\r\n",
      "I am doing some stuff.\r\n",
      "b & DoStuff() = False\r\n",
      "-----------------------\r\n",
      "I am doing some stuff.\r\n",
      "a & DoStuff() = True\r\n",
      "b & DoStuff() = False\r\n"
     ]
    }
   ],
   "source": [
    "bool a = true;\n",
    "bool b = false;\n",
    "\n",
    "WriteLine($\"a & DoStuff() = {a & DoStuff()}\"); \n",
    "WriteLine($\"b & DoStuff() = {b & DoStuff()}\");\n",
    "WriteLine(\"-----------------------\");\n",
    "WriteLine($\"a & DoStuff() = {a && DoStuff()}\"); // excute couse a = true \n",
    "WriteLine($\"b & DoStuff() = {b && DoStuff()}\"); // not excute cousse b = false"
   ]
  },
  {
   "cell_type": "markdown",
   "metadata": {},
   "source": [
    "## Exploring bitwise and binary shift operators"
   ]
  },
  {
   "cell_type": "code",
   "execution_count": 64,
   "metadata": {
    "dotnet_interactive": {
     "language": "csharp"
    },
    "vscode": {
     "languageId": "dotnet-interactive.csharp"
    }
   },
   "outputs": [
    {
     "name": "stdout",
     "output_type": "stream",
     "text": [
      "a = 10\r\n",
      "b = 6\r\n",
      "a & b = 2\r\n",
      "a | b = 14\r\n",
      "a ^ b = 12\r\n"
     ]
    }
   ],
   "source": [
    "int a = 10; // 00001010\n",
    "int b = 6;  // 00000110\n",
    "\n",
    "WriteLine($\"a = {a}\");\n",
    "WriteLine($\"b = {b}\");\n",
    "WriteLine($\"a & b = {a & b}\"); // 2-bit column only e.g. 00000010\n",
    "WriteLine($\"a | b = {a | b}\"); // 8, 4, and 2-bit columns e.g. 00001110\n",
    "WriteLine($\"a ^ b = {a ^ b}\"); // 8 and 4-bit columns e.g. 00001100"
   ]
  },
  {
   "cell_type": "code",
   "execution_count": 97,
   "metadata": {
    "dotnet_interactive": {
     "language": "csharp"
    },
    "vscode": {
     "languageId": "dotnet-interactive.csharp"
    }
   },
   "outputs": [
    {
     "name": "stdout",
     "output_type": "stream",
     "text": [
      "a << 3 = 80\r\n",
      "a * 8 = 80\r\n",
      "a >> 1 = 5\r\n"
     ]
    }
   ],
   "source": [
    "int a = 10; // 00001010\n",
    "int b = 6;  // 00000110\n",
    "\n",
    "// 01010000 left-shift a by three bit columns\n",
    "WriteLine($\"a << 3 = {a << 3}\");\n",
    "// multiply a by 8\n",
    "WriteLine($\"a * 8 = {a * 8}\");\n",
    "// 00000011 right-shift a by one bit column\n",
    "WriteLine($\"a >> 1 = {a >> 1}\");"
   ]
  },
  {
   "cell_type": "markdown",
   "metadata": {},
   "source": [
    "Own Practice"
   ]
  },
  {
   "cell_type": "code",
   "execution_count": 104,
   "metadata": {
    "dotnet_interactive": {
     "language": "csharp"
    },
    "vscode": {
     "languageId": "dotnet-interactive.csharp"
    }
   },
   "outputs": [],
   "source": [
    "static string ToBinaryString(int value)\n",
    "{\n",
    "  return Convert.ToString(value, toBase: 2).PadLeft(8, '0');\n",
    "}\n",
    "\n",
    "static void AndGate(int a, int b)\n",
    "{\n",
    "    string res = Convert.ToString(a & b, toBase: 2).PadLeft(8, '0');\n",
    "    WriteLine($\"AND: {res, 8}\");\n",
    "}\n",
    "\n",
    "static void OrGate(int a, int b)\n",
    "{\n",
    "    string res = Convert.ToString(a | b, toBase: 2).PadLeft(8, '0');\n",
    "    WriteLine($\"OR:  {res, 8}\");\n",
    "}\n",
    "\n",
    "static void XorGate(int a, int b)\n",
    "{\n",
    "    string res = Convert.ToString(a ^ b, toBase: 2).PadLeft(8, '0');\n",
    "    WriteLine($\"XOR: {res, 8}\");\n",
    "}"
   ]
  },
  {
   "cell_type": "code",
   "execution_count": 105,
   "metadata": {
    "dotnet_interactive": {
     "language": "csharp"
    },
    "vscode": {
     "languageId": "dotnet-interactive.csharp"
    }
   },
   "outputs": [
    {
     "name": "stdout",
     "output_type": "stream",
     "text": [
      "a:   00001010\r\n",
      "b:   00001100\r\n",
      "--------------\r\n",
      "AND: 00001000\r\n",
      "OR:  00001110\r\n",
      "XOR: 00000110\r\n"
     ]
    }
   ],
   "source": [
    "int a = 10;\n",
    "int b = 12;\n",
    "\n",
    "WriteLine($\"a:   {ToBinaryString(a), 8}\");\n",
    "WriteLine($\"b:   {ToBinaryString(b), 8}\");\n",
    "WriteLine($\"--------------\");\n",
    "AndGate(a, b);\n",
    "OrGate(a, b);\n",
    "XorGate(a, b);"
   ]
  }
 ],
 "metadata": {
  "kernelspec": {
   "display_name": ".NET (C#)",
   "language": "C#",
   "name": ".net-csharp"
  },
  "language_info": {
   "file_extension": ".cs",
   "mimetype": "text/x-csharp",
   "name": "C#",
   "pygments_lexer": "csharp",
   "version": "9.0"
  },
  "orig_nbformat": 4
 },
 "nbformat": 4,
 "nbformat_minor": 2
}
